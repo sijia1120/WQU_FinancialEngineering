{
 "cells": [
  {
   "cell_type": "markdown",
   "metadata": {},
   "source": [
    "\n",
    "## FINANCIAL DATA\n",
    "MODULE 1 | LESSON 3\n",
    "\n",
    "\n",
    "---\n",
    "\n",
    "# `Required Readings`\n",
    "Required readings for this program are open access, which means you should be able to access them at no cost. The link provided in the citation will take you directly to the reading or to a page where you can download it.\n",
    "\n",
    "Cheng, Peng et al. \"Massive Data Analytics for Macroeconomic Nowcasting.\" Data Science for Economics and Finance, edited by Sergio Consoli, Diego Reforgiato Recupero, and Michaela Saisana, Springer, 2021, pp. 145–167, https://link.springer.com/chapter/10.1007/978-3-030-66891-4_7.\n",
    "\n",
    "Required pages: 145–149\n",
    "Estimated reading time: 20 minutes\n",
    "Ghirelli, Corinna et al. \"New Data Sources for Central Banks.\" Data Science for Economics and Finance, edited by Sergio Consoli, Diego Reforgiato Recupero, and Michaela Saisana, Springer, 2021, pp. 169–194, https://link.springer.com/chapter/10.1007/978-3-030-66891-4_8.\n",
    "\n",
    "Required pages: 169–173\n",
    "Estimated reading time: 20 minutes\n",
    "NOTE: Content presented in the required readings and Lesson Notes will be tested in all assignments, including quizzes.\n",
    "\n"
   ]
  },
  {
   "cell_type": "markdown",
   "metadata": {},
   "source": [
    "# **WORKING WITH SECURITIES DATA** "
   ]
  },
  {
   "cell_type": "markdown",
   "metadata": {},
   "source": [
    "\n",
    "|  |  |\n",
    "|:---|:---|\n",
    "|**Reading Time** |  40 minutes |\n",
    "|**Prior Knowledge** | Equities, Bonds & Maturity Date, Options & Expiration Date, Bid Price / Offer Price, Quantity Bid/Offered  |\n",
    "|**Keywords** | Primary Sources, Financial Platforms, Data Vendors, Ticker, CUSIP, SEDOL, Adjusted Close, ISIN |\n",
    "\n",
    "---"
   ]
  },
  {
   "cell_type": "markdown",
   "metadata": {},
   "source": [
    "*The previous lesson outlined the types of data for the major asset classes, stocks and bonds, and categorized different types of structured and unstructured data. It concluded by addressing 10 questions you can ask about your data. In this next lesson, we examine some of the real-world issues facing financial data: its `sources`, `identifiers`, `timestamp`s and `trading days`, and other complexities.*"
   ]
  },
  {
   "cell_type": "markdown",
   "metadata": {},
   "source": [
    "## **1. Data Sources**\n",
    "\n",
    "In the previous lesson, we discussed the importance of the vendor.\n",
    "Our first consideration is the quality of the data the vendor provides.\n",
    "Informally speaking, there are four types of providers of data:\n",
    "\n",
    "A. Primary Sources\n",
    "These include exchanges and credit agencies, like rating agencies, credit cards, and credit bureaus.\n",
    "Exchanges and credit agencies are the locations where the data originates based on transactions, trading, payments, or lack thereof. Here are examples of some exchanges and credit institutions:\n",
    "\n",
    "* Stock Exchanges: NYSE, NASDAQ, Shangha, Shenzhen, Euronext, Nigerian, Nairobi, Stock Exchange of Mauritius, etc.\n",
    "* Option Exchanges: Chicago Board Option Exchange\n",
    "* Commodity Exchanges: Chicago Mercantile Exchange, London Metal Exchange\n",
    "* Forex Exchanges: London, New York, Sydney, Tokyo \n",
    "* Cryptocurrency Exchanges: Bitcoin, Coinbase, Binance, Gemini, FTX  \n",
    "* Credit Agencies: S and P, Moody's, Fitch, Transunion, Equifax, Experian, Visa, Mastercard\n",
    "    \n",
    "\n",
    "B. Financial Platforms\n",
    "These companies provide trading platforms, news, analytics, and communications. While they may provide data, `they are typically redistributors of data from exchanges`, OTC markets, and other financial sources. The data can be analyzed from inside their platform or through an API.\n",
    "\n",
    "* Bloomberg\n",
    "* Thomson-Reuters\n",
    "* Factset\n",
    "\n",
    "C. Data Vendors\n",
    "These companies tend to focus on data and analytics. They tend to have their `data accessible through APIs`. Their revenue typically comes from selling or streaming data to clients.\n",
    "\n",
    "* BarChart\n",
    "* RavenPack\n",
    "* Capital IQ\n",
    "* CRISP\n",
    "* Datastream\n",
    "* Morningstar\n",
    "* Exante Data\n",
    "* Xignite\n",
    "* Refinitiv\n",
    "* Short Trends\n",
    "* dxFeed\n",
    "\n",
    "D. Free Sites\n",
    "Finally, there are free sites, whether public services, government sites, or user groups, that pool and provide access to free data for educational purposes or individuals. Some of these limit the amount of data that can be accessed.\n",
    "\n",
    "* Quandl\n",
    "* Alpha Vantage\n",
    "* FRED: Federal Reserve Economic Database\n",
    "* Yahoo finance\n",
    "* Google finance\n",
    "\n",
    "\n",
    "The emphasis here is not so much knowing which vendor is in which category, but how they may offer the data. Exchanges can often provide complete data, including quote and trade data. `A free site like Yahoo finance may only be able to provide end-of-day data based on trades and not quotes`. Some vendors may clean the data; others present the data as they collected it and leave it to customers to address errors. Some data may be in a format known as FIX: Financial Information eXchange Protocol. Other data may simply be in comma-separated values, tab-delimited formats, etc.\n",
    "\n",
    "Data itself is a commodity, and exchanges, markets, and vendors make money providing this data, whether historical, daily, or real-time, to clients who need to make quick, if not real-time, decisions with it.\n"
   ]
  },
  {
   "cell_type": "code",
   "execution_count": null,
   "metadata": {},
   "outputs": [],
   "source": [
    "# Using the 'pandas_datareader' package, we'll get Netflix stock information from Yahoo Finance\n",
    "import pandas_datareader as pdr\n",
    "\n",
    "# Request data via Yahoo public API\n",
    "data = pdr.get_data_yahoo(\"NFLX\")\n",
    "# Display Info\n",
    "print(data.info())"
   ]
  },
  {
   "cell_type": "code",
   "execution_count": 1,
   "metadata": {},
   "outputs": [
    {
     "ename": "ModuleNotFoundError",
     "evalue": "No module named 'yfinance'",
     "output_type": "error",
     "traceback": [
      "\u001b[1;31m---------------------------------------------------------------------------\u001b[0m",
      "\u001b[1;31mModuleNotFoundError\u001b[0m                       Traceback (most recent call last)",
      "\u001b[1;32m<ipython-input-1-1e055cd6a1ae>\u001b[0m in \u001b[0;36m<module>\u001b[1;34m\u001b[0m\n\u001b[0;32m      1\u001b[0m \u001b[1;31m# If we wanted 1 day's worth of Bitcoin data, we can use the following\u001b[0m\u001b[1;33m\u001b[0m\u001b[1;33m\u001b[0m\u001b[1;33m\u001b[0m\u001b[0m\n\u001b[1;32m----> 2\u001b[1;33m \u001b[1;32mimport\u001b[0m \u001b[0myfinance\u001b[0m \u001b[1;32mas\u001b[0m \u001b[0myf\u001b[0m\u001b[1;33m\u001b[0m\u001b[1;33m\u001b[0m\u001b[0m\n\u001b[0m\u001b[0;32m      3\u001b[0m \u001b[1;33m\u001b[0m\u001b[0m\n\u001b[0;32m      4\u001b[0m \u001b[0mBTC\u001b[0m \u001b[1;33m=\u001b[0m \u001b[0myf\u001b[0m\u001b[1;33m.\u001b[0m\u001b[0mTicker\u001b[0m\u001b[1;33m(\u001b[0m\u001b[1;34m\"BTC-USD\"\u001b[0m\u001b[1;33m)\u001b[0m\u001b[1;33m\u001b[0m\u001b[1;33m\u001b[0m\u001b[0m\n\u001b[0;32m      5\u001b[0m \u001b[0mBtcData\u001b[0m \u001b[1;33m=\u001b[0m \u001b[0mBTC\u001b[0m\u001b[1;33m.\u001b[0m\u001b[0mhistory\u001b[0m\u001b[1;33m(\u001b[0m\u001b[0mperiod\u001b[0m\u001b[1;33m=\u001b[0m\u001b[1;34m'5D'\u001b[0m\u001b[1;33m)\u001b[0m\u001b[1;33m\u001b[0m\u001b[1;33m\u001b[0m\u001b[0m\n",
      "\u001b[1;31mModuleNotFoundError\u001b[0m: No module named 'yfinance'"
     ]
    }
   ],
   "source": [
    "# If we wanted 1 day's worth of Bitcoin data, we can use the following \n",
    "import yfinance as yf\n",
    "\n",
    "BTC = yf.Ticker(\"BTC-USD\")\n",
    "BtcData = BTC.history(period='5D')\n",
    "BtcData.tail(2)"
   ]
  },
  {
   "cell_type": "markdown",
   "metadata": {},
   "source": [
    "## **2. Data Descriptors**\n",
    "\n",
    "How do you refer to data related to specific securities? Most securities have identifiers. In the previous example, we referred to Netflix by its ticker, NFLX, on the stock exchange. Depending on the asset class, different types of identifiers are used. In previous lessons, we discussed bonds, stocks, cryptocurrencies, mutual funds, ETFs, options, securitized products, and real estate, among others. Let's start with stocks.\n",
    "\n",
    "`Tickers are the most popularly known identifiers`. You will see tickers listed on screens during television shows or podcasts, in newspapers and online stories, as the ticker may tend to have some resemblance to the name or type of company. Everyone knows Facebook as FB (even though it is now Meta), Apple as AAPL, and IBM as, well, IBM! The ticker is not only an identifier but a way to remember the company. For example, Papa John's is a food company that specializes in pizza. Its ticker is PZZA. Thermogenesis Corporation is an energy company with the ticker KOOL. Southwest Airlines' ticker is LUV.  WideOpenWest has ticker WOW. Research has shown that the ticker can actually affect the performance!\n",
    "\n",
    "In 2006, researchers showed that if the ticker is easy to pronounce, it tends to outperform the market. [Boutin]\n",
    "In a 10+ year study, researchers at Pomona College showed that stocks with clever tickers outperform stocks with plain tickers [Smith]. Who would think that the resemblance of a ticker to a fun or easily remembered word could affect the company's performance? In a future course, we'll cover topics related to behavioral finance and discuss the idea of familiarity bias.  \n",
    "\n",
    "Tickers are important but tend to be applied to stocks and ETFs. `Bonds, for example, do not have tickers`. Let's look at some other ways securities are identified.\n",
    "\n",
    "CUSIP: Typically, when you see all uppercase, the identifier is an acronym.  CUSIP is an acronym for Committee on Uniform Security Identification Procedures. Used in North America, it is a nine-digit alphanumeric code that uniquely identifies not only a security but also information about its type and issuer. `The first 6 alphanumeric characters identify the issuer. The next two characters identify the type of security. The last digit is a check that the code is created correctly`. CIN is a CUSIP for securities in foreign markets. These are extra digits, where the first letters represent the issuing country. The acronym refers to the CUSIP International Numbering System.\n",
    "\n",
    "SEDOL is also an acronym: Stock Exchange Daily Official List. When a company is listed on an exchange, it has a SEDOL. If it gets delisted, it loses its SEDOL. Consider the case of Hertz Rental Cars. Hertz was the number one rental company in the world. Hertz ran into financial difficulties. It suffered further during the COVID-19 pandemic, which affected both business and leisure travel. In May 2020, Hertz filed for Chapter 11 bankruptcy. Later that year in October 2020, Hertz was delisted from the NYSE. At that time, the SEDOL changed representing a listing no longer on the NYSE but on NASDAQ. Any data collected on Hertz must recognize the switch from one exchange to another.\n",
    "\n",
    "ISIN is the International Securities Identification Number. ISIN uses 12-digit identifiers. The first 2 characters are alphabetic identifying the country. The next 9 alphanumeric characters identify the security. ISINs are more universal. For example, `futures tend not to have CUSIPs but have ISINs`. Foreign Exchange rates have identifiable tickers (e.g., GBP/USD) but are referred to internationally by their ISINs.\n",
    "\n",
    "The securities we've described are fungible. Fungible securities are interchangeable. For example, 100 shares of AAPL common stock are like any other 100 shares of AAPL common stock. Most financial securities are fungible. Note that fungible need not mean identical. Gold is considered fungible, so long as it does not have serial numbers or marks that uniquely identify it. (U.S. dollar bills have serial numbers but are still considered fungible.) Likewise, Bitcoin is fungible. You can pay someone a Bitcoin, and they can send you a different one back. They are considered interchangeable, just like paper currency in any country.  \n",
    "\n",
    "When we get to items that are more specific or unique, we have infungible securities. Real estate is not a fungible commodity. It is not interchangeable. Real estate is infungible. Even two houses that are the same size, material, and location are not interchangeable, in part because they are in different physical locations, with different views, light, neighbors, properties, etc. Similarly, works of art are not fungible. An original painting or sculpture is not like any other. Securities that are infungible will be very difficult to identify because they are, by nature, unique.  \n",
    "\n",
    "For example, Zillow may show a property that was \\\\$100,000, and then a year later, it is \\\\$500,000. Did the house really increase five-fold? No. Zillow represents the value of whatever the real estate is at the address.  Originally, the land was undeveloped; it was a vacant lot. It was bought by a builder for \\\\$100,000. The builder constructed a house that was then sold for $500,000. The land itself has value (\"undeveloped\") and any structures (homes, buildings) add value through \"developments\" on the land. Zillow relies on a deed or property record, often filed at the local level, to refer to the property. With millions of properties, it is difficult to uniquely identify a property and likely impossible (and unnecessary) to have an internationally standardized system.  \n",
    "\n",
    "Moving to precious jewelry, diamonds are infungible. In the U.S., some diamonds are graded by the Gemological Institute of America (GIA) and have an engraved serial number. This makes diamonds like gold with a serial number--not interchangeable and thus infungible. Diamonds without this engraving are more fungible. However, there are risks that it is not properly appraised for clarity, carats, and even if it is man-made or natural.\n",
    "\n",
    "When you want to analyze the behavior of securities, think about the data you are collecting, and ask yourself if it is a specific, one-of-a-kind asset (home, art, some jewelry) or a fungible, easily interchangeable asset (stock, bond, ETF). Use identifiers if they help.\n",
    "\n"
   ]
  },
  {
   "cell_type": "code",
   "execution_count": null,
   "metadata": {},
   "outputs": [],
   "source": []
  },
  {
   "cell_type": "code",
   "execution_count": null,
   "metadata": {},
   "outputs": [],
   "source": []
  }
 ],
 "metadata": {
  "kernelspec": {
   "display_name": "Python 3",
   "language": "python",
   "name": "python3"
  },
  "language_info": {
   "codemirror_mode": {
    "name": "ipython",
    "version": 3
   },
   "file_extension": ".py",
   "mimetype": "text/x-python",
   "name": "python",
   "nbconvert_exporter": "python",
   "pygments_lexer": "ipython3",
   "version": "3.7.3"
  }
 },
 "nbformat": 4,
 "nbformat_minor": 2
}
