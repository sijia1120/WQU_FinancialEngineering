{
 "cells": [
  {
   "cell_type": "markdown",
   "metadata": {},
   "source": [
    "## FINANCIAL DATA\n",
    "\n",
    "MODULE 3 | LESSON 1\n",
    "\n",
    "\n",
    "---"
   ]
  },
  {
   "cell_type": "markdown",
   "metadata": {},
   "source": [
    "# CALCULATING PORTFOLIO RISK/RETURN STATISTICS"
   ]
  },
  {
   "cell_type": "markdown",
   "metadata": {},
   "source": [
    "|  |  |\n",
    "|:---|:---|\n",
    "|**Reading Time** |  40 minutes |\n",
    "|**Prior Knowledge** | Simple Stock Returns, Variance, Python, Linear Algebra, Matrix Multiplication  |\n",
    "|**Keywords** | Portfolio Return, Variance, Sharpe Ratio |\n",
    "\n",
    "---"
   ]
  },
  {
   "cell_type": "markdown",
   "metadata": {},
   "source": [
    "*The previous module had a focus on the individual security. For this lesson, we take what we have learned previously and apply it to a portfolio setting using a basket of stocks/crypto.*"
   ]
  },
  {
   "cell_type": "code",
   "execution_count": 1,
   "metadata": {},
   "outputs": [],
   "source": [
    "import datetime\n",
    "import math\n",
    "\n",
    "import numpy as np\n",
    "import pandas_datareader.data as web\n",
    "from IPython.display import VimeoVideo"
   ]
  },
  {
   "cell_type": "markdown",
   "metadata": {},
   "source": [
    "## 1. Portfolio Returns\n",
    "Up to this point in the course, we've spent our time analyzing individual securities. Today, we perform a similar analysis except using a portfolio of assets. We will first quickly recap how to **determine return on investment for a single asset, General Electric (GE)**.\n",
    "\n",
    "### 1.1 Single Asset Return Recap\n",
    "We will assume we bought 100 shares 10 years ago. To determine the cash return, we just need to use the following formula:\n",
    "\n",
    "$r_f = (p_f - p_i) * 100$"
   ]
  },
  {
   "cell_type": "code",
   "execution_count": 2,
   "metadata": {},
   "outputs": [],
   "source": [
    "start = datetime.date(2011,11,29)\n",
    "end = datetime.date(2021,11,28)\n",
    "# start = datetime.date.today() - datetime.date.timedelta(365*10)\n",
    "# end = datetime.date.today()"
   ]
  },
  {
   "cell_type": "code",
   "execution_count": 3,
   "metadata": {},
   "outputs": [],
   "source": [
    "prices = web.DataReader([\"GE\"], \"yahoo\" , start, end, )[\"Adj Close\"]"
   ]
  },
  {
   "cell_type": "code",
   "execution_count": 4,
   "metadata": {},
   "outputs": [
    {
     "name": "stdout",
     "output_type": "stream",
     "text": [
      "With an initial investment of the $12605.81, the cash return of this investment would be $6307.0 - $12605.81 = $-6298.81\n"
     ]
    }
   ],
   "source": [
    "start = datetime.date.today() - datetime.timedelta(365*10)\n",
    "end = datetime.date.today()\n",
    "prices = web.DataReader([\"GE\"], \"yahoo\", start, end)[\"Adj Close\"]\n",
    "initialPrice = prices.GE[0]\n",
    "finalPrice = prices.GE[-1]\n",
    "cashReturn = (finalPrice - initialPrice)*100\n",
    "print(\n",
    "    f\"With an initial investment of the ${np.round(initialPrice*100,2)}, the cash return of this investment would be ${np.round(finalPrice*100,2)} - ${np.round(initialPrice*100,2)} = ${np.round(cashReturn,2)}\")"
   ]
  },
  {
   "cell_type": "markdown",
   "metadata": {},
   "source": [
    "### 1.2 How to Calculate Return with a Basket of Assets\n",
    "We’ve now gone over returns of a single asset many times during this course. It’s time to apply similar logic to a basket of multiple assets. This will once again be best illustrated with an example. The following calculations can easily be extended to n number of securities, but to keep it simple, we will use two for our example. For this, we need to make some basic assumptions:\n",
    "\n",
    "* 2 stocks\n",
    "    * Meta—We will refer to it as its previous name from here on out: Facebook (FB) \n",
    "    * Chipotle (CMG)\n",
    "* Bought 100 shares of each five years ago\n",
    "* Goal: Calculate percentage return obtained by the portfolio at the end of the period\n",
    "\n",
    "To start, we need to calculate the weights of each asset at the start of the period:"
   ]
  },
  {
   "cell_type": "code",
   "execution_count": 5,
   "metadata": {},
   "outputs": [
    {
     "name": "stdout",
     "output_type": "stream",
     "text": [
      "We have an initial investment in FB of $nan and in CMG $38346.0\n"
     ]
    }
   ],
   "source": [
    "# Define all initial variables\n",
    "# start = datetime.date.today()-datetime.timedelta(365*5)\n",
    "# end = datetime.date.today()\n",
    "#start = datetime.date(2016, 11, 29)\n",
    "#end = datetime.date(2021, 11, 28)\n",
    "prices = web.DataReader([\"FB\", \"CMG\"], \"yahoo\", start, end)[\"Adj Close\"]\n",
    "initialFB = prices.FB[0]\n",
    "initialCMG = prices.CMG[0]\n",
    "finalFB = prices.FB[-1]\n",
    "finalCMG = prices.CMG[-1]\n",
    "FBweight = initialFB / (initialFB+initialCMG)\n",
    "CMGWeight =  initialCMG / (initialFB + initialCMG)\n",
    "\n",
    "print(\n",
    "    f\"We have an initial investment in FB of ${np.round(initialFB * 100,2)} and in CMG ${np.round(initialCMG *100)}\")"
   ]
  },
  {
   "cell_type": "code",
   "execution_count": 6,
   "metadata": {},
   "outputs": [
    {
     "name": "stdout",
     "output_type": "stream",
     "text": [
      "This would make the weights nan and nan for FB and CMG respectively.\n"
     ]
    }
   ],
   "source": [
    "print(\n",
    "    f\"This would make the weights {FBweight} and {CMGWeight} for FB and CMG respectively.\")"
   ]
  },
  {
   "cell_type": "markdown",
   "metadata": {},
   "source": [
    "### 1.3 Final Returns"
   ]
  },
  {
   "cell_type": "markdown",
   "metadata": {},
   "source": [
    "In order to calculate the final portfolio percentage returns, we need to find the returns of each asset individually, multiply the return by the weight in our portfolio, and then add them together. The formula to calculate this for two assets is:\n",
    "\n",
    "$Portfolio_{Return} = w_1R_1 + w_2R_2$"
   ]
  },
  {
   "cell_type": "code",
   "execution_count": 7,
   "metadata": {},
   "outputs": [],
   "source": [
    "returnFB = 100 * (finalFB - initialFB) / initialFB\n",
    "returnCMG = 100 * (finalCMG - initialCMG) / initialCMG"
   ]
  },
  {
   "cell_type": "code",
   "execution_count": 8,
   "metadata": {},
   "outputs": [
    {
     "name": "stdout",
     "output_type": "stream",
     "text": [
      "This return over this periof for Facebook is nan (FB) and 241.0 (CMG)\n"
     ]
    }
   ],
   "source": [
    "print(f\"This return over this periof for Facebook is {np.round(returnFB,2)} (FB) and {np.round(returnCMG,2)} (CMG)\")"
   ]
  },
  {
   "cell_type": "markdown",
   "metadata": {},
   "source": [
    "Adding these weighted returns together gives us a portfolio return of 41.14+250.35 = 291.49% "
   ]
  },
  {
   "cell_type": "markdown",
   "metadata": {},
   "source": [
    "Our portfolio would have returned 291.49% over the last five years, assuming we invested in both assets on the same starting date and with our weights.\n",
    "\n",
    "In the first video of this lesson, we show how to transition from calculating an individual security's returns to calculating the returns of a portfolio of assets."
   ]
  },
  {
   "cell_type": "code",
   "execution_count": 9,
   "metadata": {},
   "outputs": [
    {
     "data": {
      "text/html": [
       "\n",
       "        <iframe\n",
       "            width=\"600\"\n",
       "            height=\"300\"\n",
       "            src=\"https://player.vimeo.com/video/706655699?h=1a478ba2bf\"\n",
       "            frameborder=\"0\"\n",
       "            allowfullscreen\n",
       "        ></iframe>\n",
       "        "
      ],
      "text/plain": [
       "<IPython.lib.display.VimeoVideo at 0x28329b6f630>"
      ]
     },
     "execution_count": 9,
     "metadata": {},
     "output_type": "execute_result"
    }
   ],
   "source": [
    "VimeoVideo(\"706655699\", h=\"1a478ba2bf\", width=600)"
   ]
  },
  {
   "cell_type": "markdown",
   "metadata": {},
   "source": [
    "## 2. Calculating Portfolio Variance\n",
    "This was discussed at a high level during the Financial Markets course, but here, we will show how to **calculate variance in Python with empirical data**. While returns are important, investors are also concerned about risk or volatility. We will use variance of returns to determine risk. Once again, we will use an example, using the same data as before to drive the point home. A bit of linear algebra is needed, but luckily, we have Python to do the tough calculations for us. \n",
    "\n",
    "If we were to calculate this for two assets using pencil and paper, we could use the following formula:\n",
    "\n",
    "$\\textrm{Portfolio variance} = w_1^2\\sigma_1^2 + w_2^2\\sigma_2^2 + 2w_1w_2Cov_{1,2}$\n",
    "\n",
    "Where:\n",
    "\n",
    "* $w_1$ = the portfolio weight of the first asset\n",
    "\n",
    "* $w_2$ = the portfolio weight of the second asset\n",
    "\n",
    "* $\\sigma_1$ = the standard deviation of the first asset\n",
    "\n",
    "* $\\sigma_2$ = the standard deviation of the second asset\n",
    "\n",
    "* $Cov_{1,2} = \\textrm{the covariance of the two assets, which can thus be expressed as } \\rho_{(1,2)}\\sigma_1\\sigma_2, \\textrm{where }\\rho_{(1,2)} \\textrm{is the correlation coefficient between the two assets}$\n",
    "\n",
    "\n",
    "\n",
    "Luckily, Python makes it easy for us to expand the formula to n number of assets. This formula is better expressed in matrix notation since it's easier to apply this way in Python: \n",
    "\n",
    "$Portfolio Variance = Weightstransposed * (covariance matrix) * weights$\n",
    "\n",
    "### 2.1 Defining Variables\n",
    "Let's put those portfolio weights we calculated before into an array and also calculate the simple daily returns of our asset along with a covariance matrix of these daily returns. Keep in mind that **will multiply the daily returns covariance matrix by 252 to measure annual variance.**\n",
    "\n"
   ]
  },
  {
   "cell_type": "code",
   "execution_count": 17,
   "metadata": {},
   "outputs": [
    {
     "name": "stdout",
     "output_type": "stream",
     "text": [
      "Symbols        FB       CMG\n",
      "Symbols                    \n",
      "FB       0.262574  0.101437\n",
      "CMG      0.101437  0.127265\n"
     ]
    }
   ],
   "source": [
    "weights = np.array([0.23,0.77])\n",
    "#print(weights)\n",
    "returns = prices.pct_change()\n",
    "# pct_change:\n",
    "# Computes the percentage change from the immediately previous row by default. This is useful in comparing the percentage of change in a time series of elements.\n",
    "covariance = 252* returns.cov()\n",
    "print(covariance)"
   ]
  },
  {
   "cell_type": "markdown",
   "metadata": {},
   "source": [
    "After defining these, we simply need to take the dot product of the transposed weights with the dot product of the covariance matrix and weights to get the annual variance of our portfolio. Note: **The t-method in numpy just transposes the array.**"
   ]
  },
  {
   "cell_type": "code",
   "execution_count": 20,
   "metadata": {},
   "outputs": [
    {
     "name": "stdout",
     "output_type": "stream",
     "text": [
      "12.53%\n"
     ]
    }
   ],
   "source": [
    "variance = np.dot(weights.T, np.dot(covariance, weights))\n",
    "\n",
    "# Print the result\n",
    "print(str(np.round(variance, 4) * 100) + \"%\")"
   ]
  },
  {
   "cell_type": "markdown",
   "metadata": {},
   "source": [
    "We determine that the annual variance of our portfolio is 10.33%. Let’s compare this to the variance of each individual asset.\n",
    "\n",
    "### 2.2 Comparing Portfolio Variance to Individual Stock Variance\n",
    "This shows the annual variance of a portfolio with FB and CMG weighted 23% and 77% respectively has shown a 10.33% annual variance over the last five years.\n",
    "\n",
    "One extremely interesting byproduct of this result can be seen when calculating variance of the equities individually. One of the main pillars of modern portfolio theory is about how diversification reduces risk. We can see this clear as day by looking at each stock's variance over the same time period."
   ]
  },
  {
   "cell_type": "code",
   "execution_count": null,
   "metadata": {},
   "outputs": [],
   "source": []
  },
  {
   "cell_type": "code",
   "execution_count": null,
   "metadata": {},
   "outputs": [],
   "source": []
  },
  {
   "cell_type": "code",
   "execution_count": null,
   "metadata": {},
   "outputs": [],
   "source": []
  },
  {
   "cell_type": "code",
   "execution_count": null,
   "metadata": {},
   "outputs": [],
   "source": []
  }
 ],
 "metadata": {
  "kernelspec": {
   "display_name": "Python 3",
   "language": "python",
   "name": "python3"
  },
  "language_info": {
   "codemirror_mode": {
    "name": "ipython",
    "version": 3
   },
   "file_extension": ".py",
   "mimetype": "text/x-python",
   "name": "python",
   "nbconvert_exporter": "python",
   "pygments_lexer": "ipython3",
   "version": "3.7.3"
  }
 },
 "nbformat": 4,
 "nbformat_minor": 2
}
