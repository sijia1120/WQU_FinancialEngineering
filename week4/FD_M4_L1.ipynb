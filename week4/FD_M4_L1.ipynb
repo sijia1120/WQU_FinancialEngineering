{
 "cells": [
  {
   "cell_type": "markdown",
   "id": "b8cab374",
   "metadata": {},
   "source": [
    "# FINANCIAL DATA\n",
    "MODULE 4 | LESSON 1\n",
    "\n",
    "\n",
    "---"
   ]
  },
  {
   "cell_type": "markdown",
   "id": "db4346b6",
   "metadata": {},
   "source": [
    "# **OPTION PAYOFFS AND STRATEGIES**"
   ]
  },
  {
   "cell_type": "markdown",
   "id": "e94de7e4",
   "metadata": {},
   "source": [
    "|  |  |\n",
    "|:---|:---|\n",
    "|**Reading Time** |  30 minutes |\n",
    "|**Prior Knowledge** | Calls, Puts, Strikes, Volatility, Option payoffs  |\n",
    "|**Keywords** |Break-even levels, Straddle, Strangle, Iron condor   |\n",
    "\n",
    "\n",
    "---\n",
    "\n"
   ]
  },
  {
   "cell_type": "markdown",
   "id": "fc118a4b",
   "metadata": {},
   "source": [
    "*In the previous module, we examined stocks and cryptocurrencies.  In this module, we will examine the use of Python to compute and `visualize option payoffs and prices`, from single options to multi-option strategies.*"
   ]
  },
  {
   "cell_type": "code",
   "execution_count": 2,
   "id": "7e3f32e5",
   "metadata": {},
   "outputs": [
    {
     "name": "stdout",
     "output_type": "stream",
     "text": [
      "Collecting option-price\n",
      "  Downloading option_price-0.2.0-py3-none-any.whl (5.5 kB)\n",
      "Requirement already satisfied: numpy in /Users/scarlett/opt/anaconda3/lib/python3.9/site-packages (from option-price) (1.20.3)\n",
      "Requirement already satisfied: scipy in /Users/scarlett/opt/anaconda3/lib/python3.9/site-packages (from option-price) (1.7.1)\n",
      "Installing collected packages: option-price\n",
      "Successfully installed option-price-0.2.0\n",
      "Note: you may need to restart the kernel to use updated packages.\n"
     ]
    }
   ],
   "source": [
    "%pip install option-price"
   ]
  },
  {
   "cell_type": "code",
   "execution_count": 1,
   "id": "80362cb0",
   "metadata": {},
   "outputs": [],
   "source": [
    "import math\n",
    "\n",
    "from optionprice import Option"
   ]
  },
  {
   "cell_type": "markdown",
   "id": "b95d196d",
   "metadata": {},
   "source": [
    "## 1. Options\n",
    "In this lesson, we'll use a Python package called `optionprice`.  This has a function called `Option`. As you recall from Module 4 of Financial Markets, there are two fields that describe the type of option:\n",
    "1. The type of option: call or put. In the Option function, this is specified by the argument kind.\n",
    "2. The style of exercise: European or American. In the Option function, this is specified with the European argument set to True or False.\n",
    "\n",
    "There are also six numerical values that allow us to value the option:\n",
    "1. Strike Level: k\n",
    "2. Stock Price: s0\n",
    "3. Time to expiration (here, this is given in calendar days): t\n",
    "4. Volatility: sigma (which is annualized)\n",
    "5. Risk-Free rate: r (which is annualized)\n",
    "6. Dividend-Yield: dv (which is annualized)\n",
    "Let's import the package and create an ATM European call option (ATM at the money is a situation where an option's strike price is identical to the price of the underlying security). The function Option helps us to do that. Notice that we have to specify all eight of these fields as arguments to the Option function."
   ]
  },
  {
   "cell_type": "code",
   "execution_count": 4,
   "id": "35372b70",
   "metadata": {},
   "outputs": [
    {
     "name": "stdout",
     "output_type": "stream",
     "text": [
      "Type:           European\n",
      "Kind:           call\n",
      "Price initial:  100\n",
      "Price strike:   100\n",
      "Volatility:     20.0%\n",
      "Risk free rate: 5.0%\n",
      "Start Date:     2022-07-10\n",
      "Expire Date:    2022-08-09\n",
      "Time span:      30 days\n"
     ]
    }
   ],
   "source": [
    "myCall = Option(\n",
    "    european = True, \n",
    "    kind = 'call', \n",
    "    s0 = 100, # stock price = 100\n",
    "    k = 100, # strike level = 100\n",
    "    t = 30, # time to expiration = 30,\n",
    "    sigma = 0.2, # volatility = 0.2,\n",
    "    r = 0.05, # risk-free rate = 5%,\n",
    "    dv = 0, # dividend yield = 0\n",
    ")\n",
    "print(myCall)"
   ]
  },
  {
   "cell_type": "code",
   "execution_count": 5,
   "id": "80b8ef8b",
   "metadata": {},
   "outputs": [
    {
     "data": {
      "text/plain": [
       "optionprice.option.Option"
      ]
     },
     "execution_count": 5,
     "metadata": {},
     "output_type": "execute_result"
    }
   ],
   "source": [
    "type(myCall)"
   ]
  },
  {
   "cell_type": "markdown",
   "id": "b543b6f1",
   "metadata": {},
   "source": [
    "Similarly, to create a put, we merely need to change the type to put."
   ]
  },
  {
   "cell_type": "code",
   "execution_count": 7,
   "id": "57ca9ba9",
   "metadata": {},
   "outputs": [
    {
     "name": "stdout",
     "output_type": "stream",
     "text": [
      "Type:           European\n",
      "Kind:           put\n",
      "Price initial:  100\n",
      "Price strike:   100\n",
      "Volatility:     20.0%\n",
      "Risk free rate: 5.0%\n",
      "Start Date:     2022-07-10\n",
      "Expire Date:    2022-08-09\n",
      "Time span:      30 days\n"
     ]
    }
   ],
   "source": [
    "myPut = Option(\n",
    "    european = True, \n",
    "    kind = 'put',\n",
    "    s0 = 100, \n",
    "    k = 100,\n",
    "    t = 30, \n",
    "    sigma = 0.2,\n",
    "    r = 0.05, \n",
    "    dv =0,\n",
    ")\n",
    "print(myPut)"
   ]
  },
  {
   "cell_type": "markdown",
   "id": "1e072fa7",
   "metadata": {},
   "source": [
    "If we want a single attribute, we can just query it from the option. "
   ]
  },
  {
   "cell_type": "code",
   "execution_count": 9,
   "id": "b472339f",
   "metadata": {},
   "outputs": [
    {
     "data": {
      "text/plain": [
       "100"
      ]
     },
     "execution_count": 9,
     "metadata": {},
     "output_type": "execute_result"
    }
   ],
   "source": [
    "myCall.european\n",
    "myCall.k"
   ]
  },
  {
   "cell_type": "code",
   "execution_count": 10,
   "id": "4eaeb821",
   "metadata": {},
   "outputs": [
    {
     "data": {
      "text/plain": [
       "1"
      ]
     },
     "execution_count": 10,
     "metadata": {},
     "output_type": "execute_result"
    }
   ],
   "source": [
    "myCall.kind # 1 for calls, and 2 for puts"
   ]
  },
  {
   "cell_type": "code",
   "execution_count": 11,
   "id": "0878fc35",
   "metadata": {},
   "outputs": [
    {
     "data": {
      "text/plain": [
       "100"
      ]
     },
     "execution_count": 11,
     "metadata": {},
     "output_type": "execute_result"
    }
   ],
   "source": [
    "myCall.s0"
   ]
  },
  {
   "cell_type": "code",
   "execution_count": 12,
   "id": "c46b90a5",
   "metadata": {},
   "outputs": [
    {
     "data": {
      "text/plain": [
       "0.2"
      ]
     },
     "execution_count": 12,
     "metadata": {},
     "output_type": "execute_result"
    }
   ],
   "source": [
    "myCall.sigma"
   ]
  },
  {
   "cell_type": "markdown",
   "id": "135d8e26",
   "metadata": {},
   "source": [
    "## 2.Getting the Option's Price"
   ]
  },
  {
   "cell_type": "markdown",
   "id": "d54343ae",
   "metadata": {},
   "source": []
  },
  {
   "cell_type": "code",
   "execution_count": null,
   "id": "3e603f9d",
   "metadata": {},
   "outputs": [],
   "source": []
  },
  {
   "cell_type": "code",
   "execution_count": null,
   "id": "968176d6",
   "metadata": {},
   "outputs": [],
   "source": []
  },
  {
   "cell_type": "code",
   "execution_count": null,
   "id": "4327aecb",
   "metadata": {},
   "outputs": [],
   "source": []
  },
  {
   "cell_type": "code",
   "execution_count": null,
   "id": "38f03cfd",
   "metadata": {},
   "outputs": [],
   "source": []
  },
  {
   "cell_type": "code",
   "execution_count": null,
   "id": "172ef306",
   "metadata": {},
   "outputs": [],
   "source": []
  },
  {
   "cell_type": "code",
   "execution_count": null,
   "id": "37f354ff",
   "metadata": {},
   "outputs": [],
   "source": []
  },
  {
   "cell_type": "code",
   "execution_count": null,
   "id": "29e1ab75",
   "metadata": {},
   "outputs": [],
   "source": []
  },
  {
   "cell_type": "code",
   "execution_count": null,
   "id": "14d528f0",
   "metadata": {},
   "outputs": [],
   "source": []
  },
  {
   "cell_type": "code",
   "execution_count": null,
   "id": "c19d9e46",
   "metadata": {},
   "outputs": [],
   "source": []
  },
  {
   "cell_type": "code",
   "execution_count": null,
   "id": "d05e9fa2",
   "metadata": {},
   "outputs": [],
   "source": []
  },
  {
   "cell_type": "code",
   "execution_count": null,
   "id": "fd344884",
   "metadata": {},
   "outputs": [],
   "source": []
  },
  {
   "cell_type": "code",
   "execution_count": null,
   "id": "8cd39663",
   "metadata": {},
   "outputs": [],
   "source": []
  },
  {
   "cell_type": "code",
   "execution_count": null,
   "id": "1c080764",
   "metadata": {},
   "outputs": [],
   "source": []
  },
  {
   "cell_type": "code",
   "execution_count": null,
   "id": "f9f6815a",
   "metadata": {},
   "outputs": [],
   "source": []
  },
  {
   "cell_type": "code",
   "execution_count": null,
   "id": "d5bd69a3",
   "metadata": {},
   "outputs": [],
   "source": []
  },
  {
   "cell_type": "code",
   "execution_count": null,
   "id": "46ff6a68",
   "metadata": {},
   "outputs": [],
   "source": []
  },
  {
   "cell_type": "code",
   "execution_count": null,
   "id": "3acec90f",
   "metadata": {},
   "outputs": [],
   "source": []
  },
  {
   "cell_type": "code",
   "execution_count": null,
   "id": "59d81c5a",
   "metadata": {},
   "outputs": [],
   "source": []
  },
  {
   "cell_type": "code",
   "execution_count": null,
   "id": "010fa71b",
   "metadata": {},
   "outputs": [],
   "source": []
  },
  {
   "cell_type": "code",
   "execution_count": null,
   "id": "4de114a0",
   "metadata": {},
   "outputs": [],
   "source": []
  },
  {
   "cell_type": "code",
   "execution_count": null,
   "id": "0157e655",
   "metadata": {},
   "outputs": [],
   "source": []
  },
  {
   "cell_type": "code",
   "execution_count": null,
   "id": "fe71f57f",
   "metadata": {},
   "outputs": [],
   "source": []
  }
 ],
 "metadata": {
  "kernelspec": {
   "display_name": "Python 3 (ipykernel)",
   "language": "python",
   "name": "python3"
  },
  "language_info": {
   "codemirror_mode": {
    "name": "ipython",
    "version": 3
   },
   "file_extension": ".py",
   "mimetype": "text/x-python",
   "name": "python",
   "nbconvert_exporter": "python",
   "pygments_lexer": "ipython3",
   "version": "3.9.7"
  }
 },
 "nbformat": 4,
 "nbformat_minor": 5
}
