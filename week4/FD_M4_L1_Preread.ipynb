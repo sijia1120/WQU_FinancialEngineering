{
 "cells": [
  {
   "cell_type": "markdown",
   "id": "75dc4883",
   "metadata": {},
   "source": [
    "# Python Programming for Economics and Finance\n",
    "\n",
    "Thomas J. Sargent & John Stachurski\n",
    "______________________________________"
   ]
  },
  {
   "cell_type": "markdown",
   "id": "4d8d66f1",
   "metadata": {},
   "source": [
    "# 4. Functions "
   ]
  },
  {
   "cell_type": "markdown",
   "id": "8aa937ef",
   "metadata": {},
   "source": [
    "## 4.1 Overview"
   ]
  },
  {
   "cell_type": "code",
   "execution_count": 26,
   "id": "2bcd86c8",
   "metadata": {},
   "outputs": [],
   "source": [
    "import pandas as pd \n",
    "import numpy as np\n",
    "import matplotlib.pyplot as plt\n",
    "%matplotlib inline \n",
    "plt.rcParams['figure.figsize'] = (10,6)"
   ]
  },
  {
   "cell_type": "markdown",
   "id": "5cda4ff4",
   "metadata": {},
   "source": [
    "## 4.2 Function Basics "
   ]
  },
  {
   "cell_type": "code",
   "execution_count": 6,
   "id": "f682d990",
   "metadata": {},
   "outputs": [
    {
     "data": {
      "text/plain": [
       "20"
      ]
     },
     "execution_count": 6,
     "metadata": {},
     "output_type": "execute_result"
    }
   ],
   "source": [
    "max(19,20)"
   ]
  },
  {
   "cell_type": "code",
   "execution_count": 7,
   "id": "7e62f190",
   "metadata": {},
   "outputs": [
    {
     "name": "stdout",
     "output_type": "stream",
     "text": [
      "foobar\n"
     ]
    }
   ],
   "source": [
    "print('foobar')"
   ]
  },
  {
   "cell_type": "code",
   "execution_count": 8,
   "id": "1033f316",
   "metadata": {},
   "outputs": [
    {
     "data": {
      "text/plain": [
       "'22'"
      ]
     },
     "execution_count": 8,
     "metadata": {},
     "output_type": "execute_result"
    }
   ],
   "source": [
    "str(22)"
   ]
  },
  {
   "cell_type": "code",
   "execution_count": 9,
   "id": "2899d051",
   "metadata": {},
   "outputs": [
    {
     "data": {
      "text/plain": [
       "int"
      ]
     },
     "execution_count": 9,
     "metadata": {},
     "output_type": "execute_result"
    }
   ],
   "source": [
    "type(22)"
   ]
  },
  {
   "cell_type": "code",
   "execution_count": 10,
   "id": "cc4a59f9",
   "metadata": {},
   "outputs": [
    {
     "data": {
      "text/plain": [
       "False"
      ]
     },
     "execution_count": 10,
     "metadata": {},
     "output_type": "execute_result"
    }
   ],
   "source": [
    "bools = False, True, True\n",
    "all(bools)\n",
    "# True if all True and False otherwise"
   ]
  },
  {
   "cell_type": "code",
   "execution_count": 11,
   "id": "ced73a2c",
   "metadata": {},
   "outputs": [
    {
     "data": {
      "text/plain": [
       "True"
      ]
     },
     "execution_count": 11,
     "metadata": {},
     "output_type": "execute_result"
    }
   ],
   "source": [
    "any(bools)\n",
    "# False if all are False and True otherwise "
   ]
  },
  {
   "cell_type": "code",
   "execution_count": 14,
   "id": "afb305dd",
   "metadata": {},
   "outputs": [
    {
     "data": {
      "text/plain": [
       "True"
      ]
     },
     "execution_count": 14,
     "metadata": {},
     "output_type": "execute_result"
    }
   ],
   "source": [
    "import calendar\n",
    "calendar.isleap(2020)"
   ]
  },
  {
   "cell_type": "markdown",
   "id": "df9b4da7",
   "metadata": {},
   "source": [
    "## 4.3 Defining Functions"
   ]
  },
  {
   "cell_type": "code",
   "execution_count": 15,
   "id": "6c1d903c",
   "metadata": {},
   "outputs": [],
   "source": [
    "def f(x):\n",
    "    return 2* x +1"
   ]
  },
  {
   "cell_type": "code",
   "execution_count": 16,
   "id": "1930e214",
   "metadata": {},
   "outputs": [
    {
     "data": {
      "text/plain": [
       "3"
      ]
     },
     "execution_count": 16,
     "metadata": {},
     "output_type": "execute_result"
    }
   ],
   "source": [
    "f(1)"
   ]
  },
  {
   "cell_type": "code",
   "execution_count": 17,
   "id": "2f19f50b",
   "metadata": {},
   "outputs": [
    {
     "data": {
      "text/plain": [
       "21"
      ]
     },
     "execution_count": 17,
     "metadata": {},
     "output_type": "execute_result"
    }
   ],
   "source": [
    "f(10)"
   ]
  },
  {
   "cell_type": "code",
   "execution_count": 22,
   "id": "366eace9",
   "metadata": {},
   "outputs": [],
   "source": [
    "def new_abs_functions(x):\n",
    "    if x < 0:\n",
    "        return -x\n",
    "    elif x == 0:\n",
    "        return 0\n",
    "    elif x > 0:\n",
    "        return x"
   ]
  },
  {
   "cell_type": "code",
   "execution_count": 24,
   "id": "c7fede89",
   "metadata": {},
   "outputs": [
    {
     "name": "stdout",
     "output_type": "stream",
     "text": [
      "3\n",
      "3\n"
     ]
    }
   ],
   "source": [
    "print(new_abs_functions(3))\n",
    "print(new_abs_functions(-3))"
   ]
  },
  {
   "cell_type": "markdown",
   "id": "54c25a06",
   "metadata": {},
   "source": [
    "## 4.4 Applications"
   ]
  },
  {
   "cell_type": "code",
   "execution_count": 37,
   "id": "b2d3679b",
   "metadata": {},
   "outputs": [
    {
     "name": "stdout",
     "output_type": "stream",
     "text": [
      "100 2.9653462616211037 -2.545957010635319\n"
     ]
    },
    {
     "data": {
      "image/png": "[encoded data removed]",
      "text/plain": [
       "<Figure size 720x432 with 1 Axes>"
      ]
     },
     "metadata": {
      "needs_background": "light"
     },
     "output_type": "display_data"
    }
   ],
   "source": [
    "ts_length = 100\n",
    "euro_values = [] # empty list\n",
    "\n",
    "for i in range(ts_length):\n",
    "    e = np.random.randn()\n",
    "    #print(e)\n",
    "    euro_values.append(e)\n",
    "print(len(euro_values), max(euro_values), min(euro_values))\n",
    "\n",
    "plt.plot(euro_values)\n",
    "plt.show()\n",
    "\n",
    "# np.random.randn return a sample from the standard normal distribution"
   ]
  },
  {
   "cell_type": "code",
   "execution_count": 39,
   "id": "a4c1fe9e",
   "metadata": {},
   "outputs": [
    {
     "data": {
      "image/png": "[encoded data removed]",
      "text/plain": [
       "<Figure size 720x432 with 1 Axes>"
      ]
     },
     "metadata": {
      "needs_background": "light"
     },
     "output_type": "display_data"
    }
   ],
   "source": [
    "def generate_data(n):\n",
    "    euro_value = []\n",
    "    for i in range(n):\n",
    "        euro_value.append(np.random.randn())\n",
    "    return euro_value\n",
    "\n",
    "data = generate_data(100)\n",
    "plt.plot(data)\n",
    "plt.show()"
   ]
  },
  {
   "cell_type": "code",
   "execution_count": 51,
   "id": "5dc3fd34",
   "metadata": {},
   "outputs": [
    {
     "data": {
      "text/plain": [
       "[]"
      ]
     },
     "execution_count": 51,
     "metadata": {},
     "output_type": "execute_result"
    },
    {
     "data": {
      "image/png": "[encoded data removed]",
      "text/plain": [
       "<Figure size 720x432 with 1 Axes>"
      ]
     },
     "metadata": {
      "needs_background": "light"
     },
     "output_type": "display_data"
    }
   ],
   "source": [
    "def generate_data(n, if_std):\n",
    "    euro_value = []\n",
    "    for i in range(n):\n",
    "        if if_std == \"U\":\n",
    "            euro_value.append(np.random.uniform(0,1))\n",
    "        else:\n",
    "            euro_value.append(np.random.randn())\n",
    "    return euro_value \n",
    "\n",
    "data = generate_data(100,\"U\")\n",
    "data1 = generate_data(100,\"N\")\n",
    "\n",
    "plt.plot(data)\n",
    "plt.plot(data1)\n",
    "plt.plot()\n",
    "        "
   ]
  },
  {
   "cell_type": "code",
   "execution_count": 52,
   "id": "3c4debe6",
   "metadata": {},
   "outputs": [
    {
     "data": {
      "image/png": "[encoded data removed]",
      "text/plain": [
       "<Figure size 720x432 with 1 Axes>"
      ]
     },
     "metadata": {
      "needs_background": "light"
     },
     "output_type": "display_data"
    }
   ],
   "source": [
    "def generate_data(n, generate_type):\n",
    "    euro_values = []\n",
    "    for i in range(n):\n",
    "        e = generate_type()\n",
    "        euro_values.append(e)\n",
    "    return euro_values\n",
    "\n",
    "data = generate_data(100, np.random.uniform)\n",
    "plt.plot(data)\n",
    "plt.show()"
   ]
  },
  {
   "cell_type": "code",
   "execution_count": 53,
   "id": "74c1e234",
   "metadata": {},
   "outputs": [
    {
     "data": {
      "text/plain": [
       "7"
      ]
     },
     "execution_count": 53,
     "metadata": {},
     "output_type": "execute_result"
    }
   ],
   "source": [
    "max(7,2,4)"
   ]
  },
  {
   "cell_type": "code",
   "execution_count": 54,
   "id": "1c828d35",
   "metadata": {},
   "outputs": [
    {
     "data": {
      "text/plain": [
       "7"
      ]
     },
     "execution_count": 54,
     "metadata": {},
     "output_type": "execute_result"
    }
   ],
   "source": [
    "m = max\n",
    "m(7,2,4)"
   ]
  },
  {
   "cell_type": "markdown",
   "id": "854e7d69",
   "metadata": {},
   "source": [
    "## 4.5 Exercies"
   ]
  },
  {
   "cell_type": "code",
   "execution_count": 57,
   "id": "6ee5db5f",
   "metadata": {},
   "outputs": [
    {
     "name": "stdout",
     "output_type": "stream",
     "text": [
      "24\n"
     ]
    }
   ],
   "source": [
    "# exceries 4.1 \n",
    "def factorial(n):\n",
    "    total = 1\n",
    "    for i in range(n):\n",
    "        total = total * (i+1)\n",
    "    return total\n",
    "\n",
    "print(factorial(4))"
   ]
  },
  {
   "cell_type": "code",
   "execution_count": 73,
   "id": "aaf94813",
   "metadata": {},
   "outputs": [
    {
     "name": "stdout",
     "output_type": "stream",
     "text": [
      "0.8611763727311545\n",
      "0.9571296958294021\n",
      "0.4677999728314297\n",
      "0.5900620206324365\n",
      "0.594144225558005\n",
      "0.28454888235167997\n",
      "0.6921766867831695\n",
      "0.6887756836853677\n",
      "0.35269418684533005\n",
      "0.5403366795822172\n",
      "2\n"
     ]
    }
   ],
   "source": [
    "# Exericise 4.2 \n",
    "from numpy.random import uniform \n",
    "\n",
    "def binomial_rv( n , p):\n",
    "    count = 0\n",
    "    for i in range(n):\n",
    "        U = uniform()\n",
    "        print(U)\n",
    "        if U < p:\n",
    "            count +=1\n",
    "    return count\n",
    "\n",
    "print(binomial_rv(10,0.4))"
   ]
  },
  {
   "cell_type": "code",
   "execution_count": 89,
   "id": "a8d5ccf5",
   "metadata": {},
   "outputs": [
    {
     "name": "stdout",
     "output_type": "stream",
     "text": [
      "0.5159901136261971\n",
      "first time is False\n",
      "0.7533353893521454\n",
      "next time is False\n",
      "score is 1\n",
      "first is False\n",
      "\n",
      "0.8126780274187232\n",
      "next time is False\n",
      "score is 2\n",
      "first is False\n",
      "\n"
     ]
    }
   ],
   "source": [
    "# Exericise 4.3\n",
    "def prob():\n",
    "    U = uniform()\n",
    "    print(U)\n",
    "    if  U < 0.5:\n",
    "        return True \n",
    "    else:\n",
    "        return False\n",
    "\n",
    "def coin(n, k):\n",
    "    score = 0\n",
    "    first = prob()\n",
    "    print(f'first time is {first}')\n",
    "    for i in range(n-1):\n",
    "        next_ = prob()\n",
    "        print(f'next time is {next_}')\n",
    "        if next_ == first:\n",
    "            score += 1\n",
    "        else:\n",
    "            first = next_\n",
    "        print(f\"score is {score}\")\n",
    "        print(f\"first is {first}\\n\")\n",
    "        if score >= k:\n",
    "            return\n",
    "            \n",
    "coin(10, 2)"
   ]
  },
  {
   "cell_type": "code",
   "execution_count": 91,
   "id": "d969f74b",
   "metadata": {},
   "outputs": [
    {
     "name": "stdout",
     "output_type": "stream",
     "text": [
      "0\n",
      "0\n",
      "0\n",
      "0\n",
      "0\n",
      "1\n",
      "0\n",
      "1\n",
      "2\n",
      "0\n"
     ]
    },
    {
     "data": {
      "text/plain": [
       "0"
      ]
     },
     "execution_count": 91,
     "metadata": {},
     "output_type": "execute_result"
    }
   ],
   "source": [
    "def draw_new(k):\n",
    "    \n",
    "    payoff = 0\n",
    "    count = 0\n",
    "    \n",
    "    for i in range(10):\n",
    "        U = uniform()\n",
    "        count = count + 1 if U < 0.5 else 0\n",
    "        print(count)\n",
    "        if count == k:\n",
    "            payoff = 1\n",
    "    return payoff\n",
    "\n",
    "draw_new(3)"
   ]
  },
  {
   "cell_type": "markdown",
   "id": "12fb524d",
   "metadata": {},
   "source": [
    "_____________________________________"
   ]
  },
  {
   "cell_type": "markdown",
   "id": "268da226",
   "metadata": {},
   "source": [
    "# 5. Python Essentials"
   ]
  },
  {
   "cell_type": "code",
   "execution_count": null,
   "id": "1604e4f5",
   "metadata": {},
   "outputs": [],
   "source": []
  },
  {
   "cell_type": "markdown",
   "id": "d0d43c20",
   "metadata": {},
   "source": [
    "# 5.1 Overview"
   ]
  },
  {
   "cell_type": "markdown",
   "id": "95ed9dfe",
   "metadata": {},
   "source": [
    "# 5.2 Data Type"
   ]
  },
  {
   "cell_type": "code",
   "execution_count": 92,
   "id": "b3820f21",
   "metadata": {},
   "outputs": [
    {
     "data": {
      "text/plain": [
       "True"
      ]
     },
     "execution_count": 92,
     "metadata": {},
     "output_type": "execute_result"
    }
   ],
   "source": [
    "x = True\n",
    "x"
   ]
  },
  {
   "cell_type": "code",
   "execution_count": 93,
   "id": "b04432bf",
   "metadata": {},
   "outputs": [
    {
     "data": {
      "text/plain": [
       "bool"
      ]
     },
     "execution_count": 93,
     "metadata": {},
     "output_type": "execute_result"
    }
   ],
   "source": [
    "type(x)"
   ]
  },
  {
   "cell_type": "code",
   "execution_count": 94,
   "id": "cc75ff0a",
   "metadata": {},
   "outputs": [
    {
     "data": {
      "text/plain": [
       "False"
      ]
     },
     "execution_count": 94,
     "metadata": {},
     "output_type": "execute_result"
    }
   ],
   "source": [
    "y = 100 < 10\n",
    "y"
   ]
  },
  {
   "cell_type": "code",
   "execution_count": 95,
   "id": "a71dc8bb",
   "metadata": {},
   "outputs": [
    {
     "data": {
      "text/plain": [
       "bool"
      ]
     },
     "execution_count": 95,
     "metadata": {},
     "output_type": "execute_result"
    }
   ],
   "source": [
    "type(y)"
   ]
  },
  {
   "cell_type": "code",
   "execution_count": 96,
   "id": "17c501db",
   "metadata": {},
   "outputs": [
    {
     "data": {
      "text/plain": [
       "1"
      ]
     },
     "execution_count": 96,
     "metadata": {},
     "output_type": "execute_result"
    }
   ],
   "source": [
    "x + y"
   ]
  },
  {
   "cell_type": "code",
   "execution_count": 97,
   "id": "e6585433",
   "metadata": {},
   "outputs": [
    {
     "data": {
      "text/plain": [
       "0"
      ]
     },
     "execution_count": 97,
     "metadata": {},
     "output_type": "execute_result"
    }
   ],
   "source": [
    "x * y"
   ]
  },
  {
   "cell_type": "code",
   "execution_count": 98,
   "id": "5680235e",
   "metadata": {},
   "outputs": [
    {
     "data": {
      "text/plain": [
       "2"
      ]
     },
     "execution_count": 98,
     "metadata": {},
     "output_type": "execute_result"
    }
   ],
   "source": [
    "True + True"
   ]
  },
  {
   "cell_type": "code",
   "execution_count": 99,
   "id": "5c7492b3",
   "metadata": {},
   "outputs": [
    {
     "data": {
      "text/plain": [
       "2"
      ]
     },
     "execution_count": 99,
     "metadata": {},
     "output_type": "execute_result"
    }
   ],
   "source": [
    "bools = [True, True, False, False]\n",
    "\n",
    "sum(bools)"
   ]
  },
  {
   "cell_type": "code",
   "execution_count": 101,
   "id": "52c150d8",
   "metadata": {},
   "outputs": [
    {
     "name": "stdout",
     "output_type": "stream",
     "text": [
      "5j\n",
      "<class 'complex'>\n"
     ]
    }
   ],
   "source": [
    "# Complex number are another primitive data type in Python\n",
    "x = complex(1,2)\n",
    "y = complex(2,1)\n",
    "print(x*y)\n",
    "print(type(x))"
   ]
  },
  {
   "cell_type": "code",
   "execution_count": 104,
   "id": "dac6be6a",
   "metadata": {},
   "outputs": [
    {
     "data": {
      "text/plain": [
       "('a', 'b')"
      ]
     },
     "execution_count": 104,
     "metadata": {},
     "output_type": "execute_result"
    }
   ],
   "source": [
    "# Tuples, which are \"immutable\" lists\n",
    "x = ('a', 'b') # parentheses instead of the square brackets\n",
    "x\n",
    "x = 'a', 'b' # Or no brackets --- the meaning is identical \n",
    "x"
   ]
  },
  {
   "cell_type": "code",
   "execution_count": 105,
   "id": "c3e18eb2",
   "metadata": {},
   "outputs": [
    {
     "data": {
      "text/plain": [
       "tuple"
      ]
     },
     "execution_count": 105,
     "metadata": {},
     "output_type": "execute_result"
    }
   ],
   "source": [
    "type (x)"
   ]
  },
  {
   "cell_type": "code",
   "execution_count": 106,
   "id": "f5053220",
   "metadata": {},
   "outputs": [
    {
     "data": {
      "text/plain": [
       "[10, 2]"
      ]
     },
     "execution_count": 106,
     "metadata": {},
     "output_type": "execute_result"
    }
   ],
   "source": [
    "# Python lis is mutable , which can still be altered after creation\n",
    "x =[1,2]\n",
    "x[0] = 10\n",
    "x"
   ]
  },
  {
   "cell_type": "code",
   "execution_count": 107,
   "id": "5e7902c7",
   "metadata": {},
   "outputs": [
    {
     "ename": "TypeError",
     "evalue": "'tuple' object does not support item assignment",
     "output_type": "error",
     "traceback": [
      "\u001b[0;31m---------------------------------------------------------------------------\u001b[0m",
      "\u001b[0;31mTypeError\u001b[0m                                 Traceback (most recent call last)",
      "\u001b[0;32m/var/folders/sg/y4ppv58972v4dp0byynbh0f00000gn/T/ipykernel_1960/3109784122.py\u001b[0m in \u001b[0;36m<module>\u001b[0;34m\u001b[0m\n\u001b[1;32m      1\u001b[0m \u001b[0mx\u001b[0m \u001b[0;34m=\u001b[0m \u001b[0;34m(\u001b[0m\u001b[0;36m10\u001b[0m\u001b[0;34m,\u001b[0m\u001b[0;36m2\u001b[0m\u001b[0;34m)\u001b[0m\u001b[0;34m\u001b[0m\u001b[0;34m\u001b[0m\u001b[0m\n\u001b[0;32m----> 2\u001b[0;31m \u001b[0mx\u001b[0m\u001b[0;34m[\u001b[0m\u001b[0;36m0\u001b[0m\u001b[0;34m]\u001b[0m \u001b[0;34m=\u001b[0m \u001b[0;36m10\u001b[0m\u001b[0;34m\u001b[0m\u001b[0;34m\u001b[0m\u001b[0m\n\u001b[0m\u001b[1;32m      3\u001b[0m \u001b[0mx\u001b[0m\u001b[0;34m\u001b[0m\u001b[0;34m\u001b[0m\u001b[0m\n",
      "\u001b[0;31mTypeError\u001b[0m: 'tuple' object does not support item assignment"
     ]
    }
   ],
   "source": [
    "x = (10,2)\n",
    "x[0] = 10\n",
    "x\n",
    "# the return is \"the 'tuple' object does not support item assignment\""
   ]
  },
  {
   "cell_type": "code",
   "execution_count": 108,
   "id": "cc5d6f54",
   "metadata": {},
   "outputs": [
    {
     "data": {
      "text/plain": [
       "10"
      ]
     },
     "execution_count": 108,
     "metadata": {},
     "output_type": "execute_result"
    }
   ],
   "source": [
    "# Tuples can be 'unpacked'\n",
    "integers = (10,20,30)\n",
    "x,y,z = integers\n",
    "x"
   ]
  },
  {
   "cell_type": "code",
   "execution_count": 109,
   "id": "34a1011c",
   "metadata": {},
   "outputs": [
    {
     "data": {
      "text/plain": [
       "20"
      ]
     },
     "execution_count": 109,
     "metadata": {},
     "output_type": "execute_result"
    }
   ],
   "source": [
    "y"
   ]
  },
  {
   "cell_type": "code",
   "execution_count": 110,
   "id": "5be05e2c",
   "metadata": {},
   "outputs": [
    {
     "data": {
      "text/plain": [
       "30"
      ]
     },
     "execution_count": 110,
     "metadata": {},
     "output_type": "execute_result"
    }
   ],
   "source": [
    "z"
   ]
  },
  {
   "cell_type": "markdown",
   "id": "75663b42",
   "metadata": {},
   "source": [
    "## Slice Notation\n",
    "\n",
    "The general rule is that a[m,n] returns n-m elements, starting at a[m]"
   ]
  },
  {
   "cell_type": "code",
   "execution_count": 111,
   "id": "1f2e8bfd",
   "metadata": {},
   "outputs": [
    {
     "data": {
      "text/plain": [
       "[4, 6, 8]"
      ]
     },
     "execution_count": 111,
     "metadata": {},
     "output_type": "execute_result"
    }
   ],
   "source": [
    "a = [2,4,6,8]\n",
    "a[1:]"
   ]
  },
  {
   "cell_type": "code",
   "execution_count": 112,
   "id": "8f9547de",
   "metadata": {},
   "outputs": [
    {
     "data": {
      "text/plain": [
       "[4, 6]"
      ]
     },
     "execution_count": 112,
     "metadata": {},
     "output_type": "execute_result"
    }
   ],
   "source": [
    "a[1:3]"
   ]
  },
  {
   "cell_type": "code",
   "execution_count": 113,
   "id": "d7cbe810",
   "metadata": {},
   "outputs": [
    {
     "data": {
      "text/plain": [
       "[6, 8]"
      ]
     },
     "execution_count": 113,
     "metadata": {},
     "output_type": "execute_result"
    }
   ],
   "source": [
    "a[-2:] # Last two elements of the list"
   ]
  },
  {
   "cell_type": "code",
   "execution_count": 114,
   "id": "7072f6d2",
   "metadata": {},
   "outputs": [
    {
     "data": {
      "text/plain": [
       "'bar'"
      ]
     },
     "execution_count": 114,
     "metadata": {},
     "output_type": "execute_result"
    }
   ],
   "source": [
    "s = 'foobar'\n",
    "s[-3:]"
   ]
  },
  {
   "cell_type": "markdown",
   "id": "a2d3573c",
   "metadata": {},
   "source": [
    "## Sets and Dictionaries\n",
    "\n",
    "Dictionaries are much like lists, except that the items are named instead of numbered.\n",
    "\n",
    "Sets are unordered collections without duplicates, and set methods provide the usual set-theoretic options.\n",
    "\n",
    "The **set()** function creats sets from sequences.\n",
    "\n",
    "\n"
   ]
  },
  {
   "cell_type": "code",
   "execution_count": 115,
   "id": "38b75364",
   "metadata": {},
   "outputs": [
    {
     "data": {
      "text/plain": [
       "dict"
      ]
     },
     "execution_count": 115,
     "metadata": {},
     "output_type": "execute_result"
    }
   ],
   "source": [
    "d ={'name': 'Frodo', 'age':33}\n",
    "type(d)"
   ]
  },
  {
   "cell_type": "code",
   "execution_count": 116,
   "id": "a769a0ba",
   "metadata": {},
   "outputs": [
    {
     "data": {
      "text/plain": [
       "33"
      ]
     },
     "execution_count": 116,
     "metadata": {},
     "output_type": "execute_result"
    }
   ],
   "source": [
    "d['age']"
   ]
  },
  {
   "cell_type": "code",
   "execution_count": 119,
   "id": "8e86192f",
   "metadata": {},
   "outputs": [
    {
     "data": {
      "text/plain": [
       "set"
      ]
     },
     "execution_count": 119,
     "metadata": {},
     "output_type": "execute_result"
    }
   ],
   "source": [
    "s1 = {'a', 'b'}\n",
    "type(s1)"
   ]
  },
  {
   "cell_type": "code",
   "execution_count": 120,
   "id": "f7ac4bdb",
   "metadata": {},
   "outputs": [
    {
     "data": {
      "text/plain": [
       "False"
      ]
     },
     "execution_count": 120,
     "metadata": {},
     "output_type": "execute_result"
    }
   ],
   "source": [
    "s2 = {'b', 'c'}\n",
    "s1.issubset(s2)"
   ]
  },
  {
   "cell_type": "code",
   "execution_count": 121,
   "id": "637ab081",
   "metadata": {},
   "outputs": [
    {
     "data": {
      "text/plain": [
       "{'b'}"
      ]
     },
     "execution_count": 121,
     "metadata": {},
     "output_type": "execute_result"
    }
   ],
   "source": [
    "s1.intersection(s2)"
   ]
  },
  {
   "cell_type": "code",
   "execution_count": 122,
   "id": "dd265b2f",
   "metadata": {},
   "outputs": [
    {
     "data": {
      "text/plain": [
       "{'bar', 'foo'}"
      ]
     },
     "execution_count": 122,
     "metadata": {},
     "output_type": "execute_result"
    }
   ],
   "source": [
    "s3 = set(('foo' , 'bar' , 'foo'))\n",
    "s3"
   ]
  },
  {
   "cell_type": "markdown",
   "id": "0fa106ab",
   "metadata": {},
   "source": [
    "# 5.3 Input and Output"
   ]
  },
  {
   "cell_type": "code",
   "execution_count": 123,
   "id": "8292e320",
   "metadata": {},
   "outputs": [],
   "source": [
    "# Writing \n",
    "f = open('newfile.txt', \"w\")\n",
    "f.write('Testing\\n')\n",
    "f.write('Testing again')\n",
    "f.close()"
   ]
  },
  {
   "cell_type": "markdown",
   "id": "d2190e16",
   "metadata": {},
   "source": [
    "Recall that Python maintains a concept of the **present working directory (pwd)** that can be located from with Jupyter or IPython via"
   ]
  },
  {
   "cell_type": "code",
   "execution_count": 124,
   "id": "ae497bb5",
   "metadata": {},
   "outputs": [
    {
     "data": {
      "text/plain": [
       "'/Users/scarlett/Desktop/wqu_fin_data/week4'"
      ]
     },
     "execution_count": 124,
     "metadata": {},
     "output_type": "execute_result"
    }
   ],
   "source": [
    "%pwd"
   ]
  },
  {
   "cell_type": "code",
   "execution_count": 125,
   "id": "e9ed0af5",
   "metadata": {},
   "outputs": [
    {
     "name": "stdout",
     "output_type": "stream",
     "text": [
      "Untitled.ipynb  newfile.txt\r\n"
     ]
    }
   ],
   "source": [
    "ls"
   ]
  },
  {
   "cell_type": "code",
   "execution_count": 126,
   "id": "9315a1ca",
   "metadata": {},
   "outputs": [
    {
     "data": {
      "text/plain": [
       "'Testing\\nTesting again'"
      ]
     },
     "execution_count": 126,
     "metadata": {},
     "output_type": "execute_result"
    }
   ],
   "source": [
    "# Use Python to read the contents of newline.txt \n",
    "f = open(\"newfile.txt\",\"r\")\n",
    "out = f.read()\n",
    "out"
   ]
  },
  {
   "cell_type": "code",
   "execution_count": 127,
   "id": "ca224cc4",
   "metadata": {},
   "outputs": [
    {
     "name": "stdout",
     "output_type": "stream",
     "text": [
      "Testing\n",
      "Testing again\n"
     ]
    }
   ],
   "source": [
    "print(out)"
   ]
  },
  {
   "cell_type": "markdown",
   "id": "d469e6d5",
   "metadata": {},
   "source": [
    "## Paths\n",
    "\n",
    "Note that if newfile.txt is not in the present working directory then this call to open() fails.\n",
    "\n",
    "In this case, you can shift the file to the pwd or specify the full path to the file"
   ]
  },
  {
   "cell_type": "code",
   "execution_count": 128,
   "id": "cfe501e8",
   "metadata": {},
   "outputs": [],
   "source": [
    "f = open('/Users/scarlett/Desktop/wqu_fin_data/week4/newfile.txt', 'r')"
   ]
  },
  {
   "cell_type": "markdown",
   "id": "3f1b21e7",
   "metadata": {},
   "source": [
    "## Iterating \n",
    "\n",
    "One of the most important tasks in computing is stepping through a sequence of data and performing a given action.\n",
    "\n",
    "One of Python’s strengths is its simple, flexible interface to this kind of iteration via the **for** loop."
   ]
  },
  {
   "cell_type": "code",
   "execution_count": 131,
   "id": "80f9ecf1",
   "metadata": {},
   "outputs": [
    {
     "name": "stdout",
     "output_type": "stream",
     "text": [
      "New York       8,244,910\n",
      "Los Angeles    3,819,702\n",
      "Chicago        2,707,120\n",
      "Houston        2,145,146\n",
      "Philadelphia   1,536,471\n",
      "Phoenix        1,469,471\n",
      "San Antonio    1,359,758\n",
      "San Diego      1,326,179\n",
      "Dallas         1,223,229\n"
     ]
    }
   ],
   "source": [
    "# Looping over different Objects \n",
    "data_file = open('newfile.txt', 'r')\n",
    "for line in data_file:\n",
    "    city, population = line.split(':') # Tuple unpacking \n",
    "    city = city.title() # Capitalize city names\n",
    "    population  = f'{int(population):,}' # Add commas to number\n",
    "    print(city.ljust(15) + population)\n",
    "data_file.close()\n",
    "\n",
    "# Format() is a string method used for inserting variables into strings. \n"
   ]
  },
  {
   "cell_type": "markdown",
   "id": "dfe4d95f",
   "metadata": {},
   "source": [
    "## Looping without Indices \n",
    "\n",
    "Python tends to favor looping without explicit indexing.\n",
    "\n",
    "Python provides some facilities to simplify looping without indices. One if `zip()`, which is used for stepping through pairs from two sequences."
   ]
  },
  {
   "cell_type": "code",
   "execution_count": 132,
   "id": "c4708679",
   "metadata": {},
   "outputs": [
    {
     "name": "stdout",
     "output_type": "stream",
     "text": [
      "1\n",
      "4\n",
      "9\n"
     ]
    }
   ],
   "source": [
    "x_values = [1,2,3]\n",
    "for x in x_values:\n",
    "    print(x*x)"
   ]
  },
  {
   "cell_type": "code",
   "execution_count": 133,
   "id": "39ad0a6d",
   "metadata": {},
   "outputs": [
    {
     "name": "stdout",
     "output_type": "stream",
     "text": [
      "1\n",
      "4\n",
      "9\n"
     ]
    }
   ],
   "source": [
    "for i in range(len(x_values)):\n",
    "    print(x_values[i] * x_values[i])"
   ]
  },
  {
   "cell_type": "code",
   "execution_count": 134,
   "id": "e2f82e74",
   "metadata": {},
   "outputs": [
    {
     "name": "stdout",
     "output_type": "stream",
     "text": [
      "The capital of Japan is Tokyo.\n",
      "The capital of Korea is Seoul.\n",
      "The capital of China is Beijing.\n"
     ]
    }
   ],
   "source": [
    "countries = ('Japan', 'Korea', 'China')\n",
    "cities = ('Tokyo' , 'Seoul' , 'Beijing')\n",
    "for country , city in zip(countries, cities):\n",
    "    print(f\"The capital of {country} is {city}.\")"
   ]
  },
  {
   "cell_type": "markdown",
   "id": "d3e3ac7d",
   "metadata": {},
   "source": [
    "The `zip()` function is also useful for creating dictionaries."
   ]
  },
  {
   "cell_type": "code",
   "execution_count": 136,
   "id": "9bb2472d",
   "metadata": {},
   "outputs": [
    {
     "data": {
      "text/plain": [
       "{'Tom': 'E', 'John': 'F'}"
      ]
     },
     "execution_count": 136,
     "metadata": {},
     "output_type": "execute_result"
    }
   ],
   "source": [
    "names = ['Tom' , 'John']\n",
    "marks = ['E' , 'F']\n",
    "dict(zip(names, marks))\n",
    "# dict() is to create a dictionary in Python. "
   ]
  },
  {
   "cell_type": "markdown",
   "id": "0bd7e08f",
   "metadata": {},
   "source": [
    "If we actually need the index from a list, one option is to use `enumerate()`.\n"
   ]
  },
  {
   "cell_type": "code",
   "execution_count": 137,
   "id": "a08c73de",
   "metadata": {},
   "outputs": [
    {
     "name": "stdout",
     "output_type": "stream",
     "text": [
      "letter_list[0] = \"a\"\n",
      "letter_list[1] = \"b\"\n",
      "letter_list[2] = \"c\"\n"
     ]
    }
   ],
   "source": [
    "letter_list = ['a', 'b', 'c']\n",
    "for index, letter in enumerate(letter_list):\n",
    "    print(f'letter_list[{index}] = \"{letter}\"')"
   ]
  },
  {
   "cell_type": "markdown",
   "id": "e96d39de",
   "metadata": {},
   "source": [
    "## List Comprehensions\n",
    "\n",
    "`List comprehensions` are an elegent Python tool for creating lists. "
   ]
  },
  {
   "cell_type": "code",
   "execution_count": 138,
   "id": "aa606449",
   "metadata": {},
   "outputs": [
    {
     "data": {
      "text/plain": [
       "['dogs', 'cats', 'birds']"
      ]
     },
     "execution_count": 138,
     "metadata": {},
     "output_type": "execute_result"
    }
   ],
   "source": [
    "animals = ['dog' , 'cat', 'bird']\n",
    "plurals = [i+'s' for i in animals]\n",
    "plurals "
   ]
  },
  {
   "cell_type": "code",
   "execution_count": 140,
   "id": "163506f6",
   "metadata": {},
   "outputs": [
    {
     "name": "stdout",
     "output_type": "stream",
     "text": [
      "0\n",
      "1\n",
      "2\n",
      "3\n",
      "4\n",
      "5\n",
      "6\n",
      "7\n"
     ]
    }
   ],
   "source": [
    "range(8)\n",
    "for i in range(8):\n",
    "    print(i)"
   ]
  },
  {
   "cell_type": "code",
   "execution_count": 142,
   "id": "a108c906",
   "metadata": {},
   "outputs": [
    {
     "data": {
      "text/plain": [
       "[0, 1, 4, 9, 16, 25, 36, 49]"
      ]
     },
     "execution_count": 142,
     "metadata": {},
     "output_type": "execute_result"
    }
   ],
   "source": [
    "doubles  = [i*i for i in range(8)]\n",
    "doubles"
   ]
  },
  {
   "cell_type": "markdown",
   "id": "289ee97d",
   "metadata": {},
   "source": [
    "# 5.5 Comparisons and Logical Operator\n",
    "\n",
    "Boolean values (True, False)"
   ]
  },
  {
   "cell_type": "code",
   "execution_count": 143,
   "id": "7e5c6227",
   "metadata": {},
   "outputs": [
    {
     "data": {
      "text/plain": [
       "True"
      ]
     },
     "execution_count": 143,
     "metadata": {},
     "output_type": "execute_result"
    }
   ],
   "source": [
    "x, y = 1,2\n",
    "x <y"
   ]
  },
  {
   "cell_type": "code",
   "execution_count": 144,
   "id": "97296124",
   "metadata": {},
   "outputs": [
    {
     "data": {
      "text/plain": [
       "False"
      ]
     },
     "execution_count": 144,
     "metadata": {},
     "output_type": "execute_result"
    }
   ],
   "source": [
    "x >y"
   ]
  },
  {
   "cell_type": "code",
   "execution_count": 145,
   "id": "702485f4",
   "metadata": {},
   "outputs": [
    {
     "data": {
      "text/plain": [
       "True"
      ]
     },
     "execution_count": 145,
     "metadata": {},
     "output_type": "execute_result"
    }
   ],
   "source": [
    "1<2<3"
   ]
  },
  {
   "cell_type": "code",
   "execution_count": 146,
   "id": "bf6bb590",
   "metadata": {},
   "outputs": [
    {
     "data": {
      "text/plain": [
       "True"
      ]
     },
     "execution_count": 146,
     "metadata": {},
     "output_type": "execute_result"
    }
   ],
   "source": [
    "1<=2<=3"
   ]
  },
  {
   "cell_type": "code",
   "execution_count": 147,
   "id": "92a201f7",
   "metadata": {},
   "outputs": [
    {
     "data": {
      "text/plain": [
       "False"
      ]
     },
     "execution_count": 147,
     "metadata": {},
     "output_type": "execute_result"
    }
   ],
   "source": [
    "x =1\n",
    "x == 2"
   ]
  },
  {
   "cell_type": "code",
   "execution_count": 148,
   "id": "4b17d71b",
   "metadata": {},
   "outputs": [
    {
     "data": {
      "text/plain": [
       "True"
      ]
     },
     "execution_count": 148,
     "metadata": {},
     "output_type": "execute_result"
    }
   ],
   "source": [
    "1 != 2"
   ]
  },
  {
   "cell_type": "code",
   "execution_count": 150,
   "id": "7ea5de17",
   "metadata": {},
   "outputs": [
    {
     "data": {
      "text/plain": [
       "'yes'"
      ]
     },
     "execution_count": 150,
     "metadata": {},
     "output_type": "execute_result"
    }
   ],
   "source": [
    "x = 'yes' if 42 else 'no'\n",
    "x"
   ]
  },
  {
   "cell_type": "code",
   "execution_count": 151,
   "id": "6fd9ca40",
   "metadata": {},
   "outputs": [
    {
     "data": {
      "text/plain": [
       "'no'"
      ]
     },
     "execution_count": 151,
     "metadata": {},
     "output_type": "execute_result"
    }
   ],
   "source": [
    "x = 'yes' if [] else 'no'\n",
    "x"
   ]
  },
  {
   "cell_type": "markdown",
   "id": "8d33eb88",
   "metadata": {},
   "source": [
    "The rule is:\n",
    "\n",
    "* Expressions that evaluate to zero, empty sequences or containers (strings, lists, etc.) and `None` are all equivalent to `False`. For example, `[]` and `()` are equivalent to `False` in an if clause.\n",
    "\n",
    "* All other values are equivalent to True. For example, 42 is equivalent to `True` in an `if` clause."
   ]
  },
  {
   "cell_type": "code",
   "execution_count": 152,
   "id": "f1bb3e34",
   "metadata": {},
   "outputs": [
    {
     "data": {
      "text/plain": [
       "True"
      ]
     },
     "execution_count": 152,
     "metadata": {},
     "output_type": "execute_result"
    }
   ],
   "source": [
    "1 < 2 and 'f' in 'foo'"
   ]
  },
  {
   "cell_type": "code",
   "execution_count": 153,
   "id": "011187d2",
   "metadata": {},
   "outputs": [
    {
     "data": {
      "text/plain": [
       "False"
      ]
     },
     "execution_count": 153,
     "metadata": {},
     "output_type": "execute_result"
    }
   ],
   "source": [
    "1 < 2 and 'g' in 'foo'"
   ]
  },
  {
   "cell_type": "code",
   "execution_count": 154,
   "id": "4e0d50fb",
   "metadata": {},
   "outputs": [
    {
     "data": {
      "text/plain": [
       "True"
      ]
     },
     "execution_count": 154,
     "metadata": {},
     "output_type": "execute_result"
    }
   ],
   "source": [
    "1 <2 or 'g' in 'foo'"
   ]
  },
  {
   "cell_type": "code",
   "execution_count": 155,
   "id": "b004d94a",
   "metadata": {},
   "outputs": [
    {
     "data": {
      "text/plain": [
       "False"
      ]
     },
     "execution_count": 155,
     "metadata": {},
     "output_type": "execute_result"
    }
   ],
   "source": [
    "not True"
   ]
  },
  {
   "cell_type": "code",
   "execution_count": 156,
   "id": "904f8aa0",
   "metadata": {},
   "outputs": [
    {
     "data": {
      "text/plain": [
       "True"
      ]
     },
     "execution_count": 156,
     "metadata": {},
     "output_type": "execute_result"
    }
   ],
   "source": [
    "not not True"
   ]
  },
  {
   "cell_type": "markdown",
   "id": "bedd3dcc",
   "metadata": {},
   "source": [
    "# 5.6 More Functions \n",
    "\n",
    "* Any number of functions can be defined in a given file.\n",
    "* Functions can be (and often are) defined inside other functions.\n",
    "* Any object can be passed to a function as an argument, including other functions.\n",
    "* A function can return any kind of object, including functions.\n",
    "\n",
    "Note that a function can have arbitrarily many `return` statements (including zeros). And the Functions without a return statement automatically return the special Python object `None`."
   ]
  },
  {
   "cell_type": "code",
   "execution_count": 157,
   "id": "f95c57ab",
   "metadata": {},
   "outputs": [],
   "source": [
    "def f(x):\n",
    "    if x <0:\n",
    "        return 'negative'\n",
    "    return 'non-negative'"
   ]
  },
  {
   "cell_type": "markdown",
   "id": "d77ca57a",
   "metadata": {},
   "source": [
    "## Doctrsings \n",
    "\n",
    "Python has a system for adding comments to functions, modules, etc. called *docstrings*.\n",
    "\n",
    "With one question mark we bring up the docstring, and with two question marks we get the source code as well."
   ]
  },
  {
   "cell_type": "code",
   "execution_count": 161,
   "id": "a095f941",
   "metadata": {},
   "outputs": [],
   "source": [
    "def f(x):\n",
    "    '''\n",
    "    This function squares its arguments\n",
    "    '''\n",
    "    return x**2"
   ]
  },
  {
   "cell_type": "code",
   "execution_count": 160,
   "id": "0433aefc",
   "metadata": {},
   "outputs": [],
   "source": [
    "f?\n",
    "# Signature: f(x)\n",
    "# Docstring: This function squares its arguments\n",
    "# File:      /var/folders/sg/y4ppv58972v4dp0byynbh0f00000gn/T/ipykernel_1960/813991508.py\n",
    "# Type:      function"
   ]
  },
  {
   "cell_type": "code",
   "execution_count": 162,
   "id": "f1010070",
   "metadata": {},
   "outputs": [],
   "source": [
    "f??"
   ]
  },
  {
   "cell_type": "markdown",
   "id": "71384e0a",
   "metadata": {},
   "source": [
    "## One-Line Functions: lamba\n",
    "\n",
    "The `lambda` keyword is used to create simple function on one line."
   ]
  },
  {
   "cell_type": "code",
   "execution_count": 163,
   "id": "0b10492b",
   "metadata": {},
   "outputs": [],
   "source": [
    "def f(x):\n",
    "    return x**3"
   ]
  },
  {
   "cell_type": "code",
   "execution_count": 164,
   "id": "fa48baaa",
   "metadata": {},
   "outputs": [],
   "source": [
    "f = lambda x: x**3"
   ]
  },
  {
   "cell_type": "markdown",
   "id": "c1060baa",
   "metadata": {},
   "source": [
    "If we want to calculate $\\int_0^2 x^3\\, dx$ (and have forgotten our high-school calculus). The `SciPy` library has a function called `quad` that we do this calculation for us. \n",
    "\n",
    "The syntax of the `quad` functio is `quad(f,a,b)` where `f` is the fucntion and `a` and `b` are numbers. "
   ]
  },
  {
   "cell_type": "code",
   "execution_count": 166,
   "id": "186fc2db",
   "metadata": {},
   "outputs": [
    {
     "data": {
      "text/plain": [
       "(4.0, 4.440892098500626e-14)"
      ]
     },
     "execution_count": 166,
     "metadata": {},
     "output_type": "execute_result"
    }
   ],
   "source": [
    "from scipy.integrate import quad\n",
    "quad(lambda x: x**3 , 0, 2)"
   ]
  },
  {
   "cell_type": "markdown",
   "id": "b4aca61e",
   "metadata": {},
   "source": [
    "Here the function created by `lambda` is said to be anonymous because it was never given a name."
   ]
  },
  {
   "cell_type": "markdown",
   "id": "15851811",
   "metadata": {},
   "source": [
    "## Keyword Arguments "
   ]
  },
  {
   "cell_type": "code",
   "execution_count": 167,
   "id": "e90d49ea",
   "metadata": {},
   "outputs": [
    {
     "data": {
      "text/plain": [
       "[<matplotlib.lines.Line2D at 0x7f92873c79d0>]"
      ]
     },
     "execution_count": 167,
     "metadata": {},
     "output_type": "execute_result"
    },
    {
     "data": {
      "image/png": "[encoded data removed]",
      "text/plain": [
       "<Figure size 720x432 with 1 Axes>"
      ]
     },
     "metadata": {
      "needs_background": "light"
     },
     "output_type": "display_data"
    }
   ],
   "source": [
    "plt.plot(x, 'b-', label = 'white noise')"
   ]
  },
  {
   "cell_type": "markdown",
   "id": "cc39ceec",
   "metadata": {},
   "source": [
    "In this call to Matplotlib's `plot` function, notice that the last argument is passed in `name=argument` syntax.\n",
    "\n",
    "This is called a *keyword argument*, whith `label` being the keyword.\n",
    "\n",
    "Non-keyword arguments are called *positional arguments*, since their meaning is determined by order"
   ]
  },
  {
   "cell_type": "code",
   "execution_count": 168,
   "id": "29cccd28",
   "metadata": {},
   "outputs": [],
   "source": [
    "def f(x, a=1, b=1):\n",
    "    return a + b*x"
   ]
  },
  {
   "cell_type": "code",
   "execution_count": 169,
   "id": "abaf8cda",
   "metadata": {},
   "outputs": [
    {
     "data": {
      "text/plain": [
       "3"
      ]
     },
     "execution_count": 169,
     "metadata": {},
     "output_type": "execute_result"
    }
   ],
   "source": [
    "f(2)"
   ]
  },
  {
   "cell_type": "code",
   "execution_count": 171,
   "id": "2b1289c6",
   "metadata": {},
   "outputs": [
    {
     "data": {
      "text/plain": [
       "14"
      ]
     },
     "execution_count": 171,
     "metadata": {},
     "output_type": "execute_result"
    }
   ],
   "source": [
    "f(2, a=4, b=5)"
   ]
  },
  {
   "cell_type": "markdown",
   "id": "88ec2ca6",
   "metadata": {},
   "source": [
    "## Coding styple and PEP8\n"
   ]
  },
  {
   "cell_type": "code",
   "execution_count": 174,
   "id": "7470b897",
   "metadata": {},
   "outputs": [],
   "source": [
    "import this\n",
    "# Python philosophy"
   ]
  },
  {
   "cell_type": "markdown",
   "id": "34100129",
   "metadata": {},
   "source": [
    "# 5.8 Exercises"
   ]
  },
  {
   "cell_type": "code",
   "execution_count": 184,
   "id": "d5e779a8",
   "metadata": {},
   "outputs": [
    {
     "data": {
      "text/plain": [
       "2"
      ]
     },
     "execution_count": 184,
     "metadata": {},
     "output_type": "execute_result"
    }
   ],
   "source": [
    "# Exercises 5.1 \n",
    "# Numeric list and tuples\n",
    "x_vals = [1,2,3]\n",
    "y_vals = (4,6,9)\n",
    "\n",
    "sum (x*y for x, y in zip(x_vals, y_vals))\n",
    "\n",
    "sum(x % 2 == 0 for x in range(100))\n",
    "\n",
    "pairs = ((2,5), (4,2), (9,8), (12,10))\n",
    "sum(a%2 == 0 and b%2 == 0 for a,b  in pairs)"
   ]
  },
  {
   "cell_type": "code",
   "execution_count": 191,
   "id": "b7f0f44e",
   "metadata": {},
   "outputs": [
    {
     "data": {
      "text/plain": [
       "6"
      ]
     },
     "execution_count": 191,
     "metadata": {},
     "output_type": "execute_result"
    }
   ],
   "source": [
    "# Exercises 5.2\n",
    "\n",
    "def p(x, coeff):\n",
    "    return sum(x**index * co for index,co in enumerate(coeff))\n",
    "p(x=1, coeff = [2,4])    "
   ]
  },
  {
   "cell_type": "code",
   "execution_count": 195,
   "id": "e5d47637",
   "metadata": {},
   "outputs": [
    {
     "data": {
      "text/plain": [
       "6"
      ]
     },
     "execution_count": 195,
     "metadata": {},
     "output_type": "execute_result"
    }
   ],
   "source": [
    "# Exercieses 5.3 \n",
    "def up_func(string):\n",
    "    count = 0\n",
    "    for letter in string:\n",
    "        if letter == letter.upper():\n",
    "            count +=1\n",
    "    return count\n",
    "up_func('fooJKHGDF')\n"
   ]
  },
  {
   "cell_type": "code",
   "execution_count": 209,
   "id": "8516af63",
   "metadata": {},
   "outputs": [
    {
     "name": "stdout",
     "output_type": "stream",
     "text": [
      "True\n",
      "False\n"
     ]
    }
   ],
   "source": [
    "# Exercises 5.4 \n",
    "def fun(seq_a,seq_b):\n",
    "    for a in seq_a:\n",
    "        if a not in seq_b:\n",
    "            return False\n",
    "    return True \n",
    "\n",
    "print(fun([1, 2], [1, 2, 3]))\n",
    "print(fun([1, 2, 3], [1, 2]))"
   ]
  },
  {
   "cell_type": "code",
   "execution_count": 205,
   "id": "eb26a470",
   "metadata": {},
   "outputs": [],
   "source": [
    "# Exercises 5.5\n",
    "def linapprox(f,a,b,n,x):\n",
    "    \"\"\"\n",
    "    Evaluates the piecewise linear interpolant of f ar x on the interval \n",
    "    [a,b], with n evenly spaced grid points. \n",
    "    \n",
    "    Parameters\n",
    "    ==========\n",
    "        f: function\n",
    "           The function to approximate \n",
    "        \n",
    "        x, a, b : scalars (floats or integrers)\n",
    "           Evaluation point and endpoints , with a < = x < = b\n",
    "        \n",
    "        n : integer\n",
    "           Number of grid points\n",
    "    \n",
    "    Returns\n",
    "    ==========\n",
    "        A float. the interpolant evaluated at x \n",
    "    \n",
    "    \"\"\"\n",
    "    \n",
    "    num_intervals = n-1\n",
    "    length_of_interval = b - a\n",
    "    \n",
    "    point = a \n",
    "    while point <= x:\n",
    "        point +=step \n",
    "    \n",
    "    u , v = point-step , point\n",
    "    \n",
    "    return f(u) + (x-u) * (f(v) - f(u)) /(v-u)\n",
    "        "
   ]
  },
  {
   "cell_type": "code",
   "execution_count": 203,
   "id": "5ad1d080",
   "metadata": {},
   "outputs": [
    {
     "data": {
      "text/plain": [
       "[array([], dtype=float64),\n",
       " array([1.64716661]),\n",
       " array([ 1.90177825, -1.597707  ]),\n",
       " array([ 0.10558576, -0.73782946,  0.53198316]),\n",
       " array([ 1.65285555,  1.15253441, -0.43797788, -1.91512951]),\n",
       " array([-0.82568804, -2.32318911,  2.42499347, -0.22513112, -0.76531136]),\n",
       " array([ 0.38220122, -0.83283697, -0.92486837,  0.02404509, -1.03520255,\n",
       "         0.68921207]),\n",
       " array([ 0.39636228, -0.22158715, -0.6596814 , -0.38741454,  1.20115859,\n",
       "        -1.42102045, -0.91890916]),\n",
       " array([-1.11949001,  2.02636778, -1.05647413, -0.21733394, -0.43398691,\n",
       "         0.84636237, -1.59333807,  2.09915668]),\n",
       " array([ 0.72984163,  0.35015143,  0.83274355,  2.3839218 ,  1.04174202,\n",
       "        -0.05688926,  1.94579161, -1.69821916,  0.45038716])]"
      ]
     },
     "execution_count": 203,
     "metadata": {},
     "output_type": "execute_result"
    }
   ],
   "source": [
    "# Exercises 5.6\n",
    "import numpy as np\n",
    "e_values = [np.random.randn(i) for i in range(10)]\n",
    "e_values"
   ]
  }
 ],
 "metadata": {
  "kernelspec": {
   "display_name": "Python 3 (ipykernel)",
   "language": "python",
   "name": "python3"
  },
  "language_info": {
   "codemirror_mode": {
    "name": "ipython",
    "version": 3
   },
   "file_extension": ".py",
   "mimetype": "text/x-python",
   "name": "python",
   "nbconvert_exporter": "python",
   "pygments_lexer": "ipython3",
   "version": "3.9.7"
  }
 },
 "nbformat": 4,
 "nbformat_minor": 5
}
